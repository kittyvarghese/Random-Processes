{
  "nbformat": 4,
  "nbformat_minor": 0,
  "metadata": {
    "colab": {
      "name": "Ber1.ipynb",
      "provenance": [],
      "collapsed_sections": []
    },
    "kernelspec": {
      "name": "python3",
      "display_name": "Python 3"
    }
  },
  "cells": [
    {
      "cell_type": "markdown",
      "metadata": {
        "id": "-64Gcg73bIwp",
        "colab_type": "text"
      },
      "source": [
        "**Write a program (in your favorite language) to obtain N samples from**\n",
        "\n",
        "\n",
        "*   Bernoulli with μ = 0.5 \n",
        "For the distribution, do the following:\n",
        "\n",
        " (a) Choose the number of samples N from the set {10, 100, 1000}. \\\\\n",
        " (b) For each value of N , repeat the experiment 10000 times. \\\\\n",
        " (c) Plot the histogram of the sample mean X N , with 1000 bars.\\\\\n",
        "\n",
        " Interpret the numerical results and answer the following:\n",
        "\n",
        "\n",
        "*   How many times was the sample mean in the interval [μ − 0.01, μ + 0.01] for each distribution? How\n",
        "about [μ − 0.1, μ + 0.1]? Answer this for various choices of N\n",
        "*   Calculate a 95% confidence interval for the sample mean using the numerical results 1 . Specify the proce-\n",
        "dure used for computing confidence intervals and justify your choice. How many times did the true mean\n",
        "fall outside the confidence interval?\n",
        "\n",
        "\n",
        "*   If one wants an accuracy of 0.1 (i.e., the absolute difference between sample mean and true mean), how\n",
        "many samples N would be necessary? If the accuracy is to be 0.01, by how much would the number of\n",
        "samples N increase? Justify your answer using the empirical results for the three distributions. Correlate\n",
        "the empirical results with the theoretical findings in problem 1. Generalize the answer, i.e., if the accuracy\n",
        "increases by a decimal place, what would be the corresponding jump in N ?\n",
        "\n",
        "\n",
        "\n",
        "\n",
        "\n",
        "\n",
        "\n",
        "\n",
        "\n",
        "\n",
        "\n",
        "\n"
      ]
    },
    {
      "cell_type": "code",
      "metadata": {
        "id": "1WTmL0xLmUKd",
        "colab_type": "code",
        "colab": {}
      },
      "source": [
        "from math import exp, factorial\n",
        "import matplotlib.pyplot as plt\n",
        "import numpy as np\n",
        "import random \n",
        "import seaborn as sns\n",
        "from scipy.stats import bernoulli"
      ],
      "execution_count": 0,
      "outputs": []
    },
    {
      "cell_type": "code",
      "metadata": {
        "id": "3MXlpGnXHP_P",
        "colab_type": "code",
        "colab": {}
      },
      "source": [
        "def genrate_sample_mean(N):\n",
        "  X=bernoulli.rvs(size=N,p=0.5)\n",
        "  p=sum(X)/N \n",
        "  return p\n",
        " "
      ],
      "execution_count": 0,
      "outputs": []
    },
    {
      "cell_type": "code",
      "metadata": {
        "id": "acUIOiwM6Nib",
        "colab_type": "code",
        "colab": {}
      },
      "source": [
        "m=[]\n",
        "N=10\n",
        "p=0.5\n",
        "for i in range(10000):\n",
        "  mean=genrate_sample_mean(N)\n",
        "  m.append(mean)"
      ],
      "execution_count": 0,
      "outputs": []
    },
    {
      "cell_type": "code",
      "metadata": {
        "id": "aQuoZ9f3ffPK",
        "colab_type": "code",
        "outputId": "778fa3d6-a517-4e90-d5fc-d30aa1925ea7",
        "colab": {
          "base_uri": "https://localhost:8080/",
          "height": 34
        }
      },
      "source": [
        "sample_mean=np.mean(m)\n",
        "print(sample_mean)"
      ],
      "execution_count": 4,
      "outputs": [
        {
          "output_type": "stream",
          "text": [
            "0.49981000000000003\n"
          ],
          "name": "stdout"
        }
      ]
    },
    {
      "cell_type": "code",
      "metadata": {
        "id": "ZHQcfodaAVKj",
        "colab_type": "code",
        "outputId": "f181db5c-e84b-41d2-ac2c-7ab5cde2d56c",
        "colab": {
          "base_uri": "https://localhost:8080/",
          "height": 312
        }
      },
      "source": [
        "plt.hist(m, bins=1000,color='blue',edgecolor='blue')\n",
        "plt.title('Bernoulli sample mean for N =100')\n",
        "plt.xlabel('Bernoulli Sample mean')\n",
        "plt.ylabel('Frequency')"
      ],
      "execution_count": 5,
      "outputs": [
        {
          "output_type": "execute_result",
          "data": {
            "text/plain": [
              "Text(0, 0.5, 'Frequency')"
            ]
          },
          "metadata": {
            "tags": []
          },
          "execution_count": 5
        },
        {
          "output_type": "display_data",
          "data": {
            "image/png": "[encoded data removed]",
            "text/plain": [
              "<Figure size 432x288 with 1 Axes>"
            ]
          },
          "metadata": {
            "tags": []
          }
        }
      ]
    },
    {
      "cell_type": "markdown",
      "metadata": {
        "id": "j3shFs8OdsmT",
        "colab_type": "text"
      },
      "source": [
        "Number of times sample mean is between the interval [mu+/-0.01]\n"
      ]
    },
    {
      "cell_type": "code",
      "metadata": {
        "id": "8Z10IRkDdHUY",
        "colab_type": "code",
        "outputId": "55a41798-831a-4abf-8e6a-76d41dec189e",
        "colab": {
          "base_uri": "https://localhost:8080/",
          "height": 34
        }
      },
      "source": [
        "time1=np.histogram(m, bins=[0.49,0.51])\n",
        "print(time1)"
      ],
      "execution_count": 6,
      "outputs": [
        {
          "output_type": "stream",
          "text": [
            "(array([2472]), array([0.49, 0.51]))\n"
          ],
          "name": "stdout"
        }
      ]
    },
    {
      "cell_type": "markdown",
      "metadata": {
        "id": "kek9c3cGdd-G",
        "colab_type": "text"
      },
      "source": [
        "Number of times sample mean is between the interval [mu+/-0.1]"
      ]
    },
    {
      "cell_type": "code",
      "metadata": {
        "id": "_MIZOC8ucL26",
        "colab_type": "code",
        "outputId": "6e4625d2-c9f7-40b9-b984-b4836a8483f3",
        "colab": {
          "base_uri": "https://localhost:8080/",
          "height": 34
        }
      },
      "source": [
        "time2=np.histogram(m, bins=[0.4,0.6])\n",
        "print(time2)"
      ],
      "execution_count": 7,
      "outputs": [
        {
          "output_type": "stream",
          "text": [
            "(array([6534]), array([0.4, 0.6]))\n"
          ],
          "name": "stdout"
        }
      ]
    },
    {
      "cell_type": "code",
      "metadata": {
        "id": "Gmzq3RAlIndV",
        "colab_type": "code",
        "outputId": "46b93309-af2a-4389-aa4d-fc0836f3dab8",
        "colab": {
          "base_uri": "https://localhost:8080/",
          "height": 34
        }
      },
      "source": [
        "time1=np.histogram(m, bins=[0.402,0.596])\n",
        "print(time1)"
      ],
      "execution_count": 8,
      "outputs": [
        {
          "output_type": "stream",
          "text": [
            "(array([2472]), array([0.402, 0.596]))\n"
          ],
          "name": "stdout"
        }
      ]
    },
    {
      "cell_type": "markdown",
      "metadata": {
        "id": "n-_rPPLTZTCr",
        "colab_type": "text"
      },
      "source": [
        "Calculation of 95% confidence interval"
      ]
    },
    {
      "cell_type": "code",
      "metadata": {
        "id": "_2eXDFj7R_Ki",
        "colab_type": "code",
        "outputId": "67019f3b-ac75-4a08-b505-8aa66a9c1a79",
        "colab": {
          "base_uri": "https://localhost:8080/",
          "height": 69
        }
      },
      "source": [
        "s=np.sort(m)\n",
        "h1=s[250]\n",
        "h2=s[9749]\n",
        "print(\"confidence interval\",h1,h2)\n",
        "time3=np.histogram(m, bins=[h1,h2])\n",
        "print(\"sample means falling inside the CI\",time3)\n",
        "CI=(h2-h1)/2\n",
        "print(\"epilson\", CI)\n"
      ],
      "execution_count": 9,
      "outputs": [
        {
          "output_type": "stream",
          "text": [
            "confidence interval 0.2 0.8\n",
            "sample means falling inside the CI (array([9787]), array([0.2, 0.8]))\n",
            "epilson 0.30000000000000004\n"
          ],
          "name": "stdout"
        }
      ]
    },
    {
      "cell_type": "markdown",
      "metadata": {
        "id": "VhvLYTnuVAVl",
        "colab_type": "text"
      },
      "source": [
        "To find the number of times true mean fall outside the confidence interval"
      ]
    },
    {
      "cell_type": "code",
      "metadata": {
        "id": "l2tyAsMSS44W",
        "colab_type": "code",
        "outputId": "000c02e6-5bc3-41c8-e15a-4289f2d70966",
        "colab": {
          "base_uri": "https://localhost:8080/",
          "height": 34
        }
      },
      "source": [
        "count=0\n",
        "for i in range(10000):\n",
        "  lower=m[i]-CI\n",
        "  upper=m[i]+CI\n",
        "  if lower<=0.5<=upper:\n",
        "    count=count+1\n",
        "outside=10000-count\n",
        "print(outside)\n"
      ],
      "execution_count": 10,
      "outputs": [
        {
          "output_type": "stream",
          "text": [
            "213\n"
          ],
          "name": "stdout"
        }
      ]
    }
  ]
}